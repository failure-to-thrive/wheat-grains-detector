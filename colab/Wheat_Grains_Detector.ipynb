{
  "nbformat": 4,
  "nbformat_minor": 0,
  "metadata": {
    "colab": {
      "name": "Wheat Grains Detector",
      "version": "0.3.2",
      "provenance": [],
      "private_outputs": true,
      "collapsed_sections": []
    },
    "kernelspec": {
      "name": "python2",
      "display_name": "Python 2"
    },
    "accelerator": "GPU"
  },
  "cells": [
    {
      "metadata": {
        "id": "B1kY1JS6hJw3",
        "colab_type": "code",
        "colab": {}
      },
      "cell_type": "code",
      "source": [
        "import tensorflow as tf\n",
        "device_name = tf.test.gpu_device_name()\n",
        "print (device_name)\n",
        "import os\n",
        "os.environ['COLAB_TPU_ADDR']"
      ],
      "execution_count": 0,
      "outputs": []
    },
    {
      "metadata": {
        "id": "R20AobdUkxTX",
        "colab_type": "code",
        "colab": {}
      },
      "cell_type": "code",
      "source": [
        "! ls -l -a"
      ],
      "execution_count": 0,
      "outputs": []
    },
    {
      "metadata": {
        "id": "n5mczoqelcVg",
        "colab_type": "code",
        "colab": {}
      },
      "cell_type": "code",
      "source": [
        "from google.colab import files\n",
        "files.upload()"
      ],
      "execution_count": 0,
      "outputs": []
    },
    {
      "metadata": {
        "id": "a9kj7iAPpsgZ",
        "colab_type": "code",
        "colab": {}
      },
      "cell_type": "code",
      "source": [
        "! wget http://download.tensorflow.org/models/object_detection/ssd_mobilenet_v2_coco_2018_03_29.tar.gz\n",
        "! tar -xvf ssd_mobilenet_v2_coco_2018_03_29.tar.gz"
      ],
      "execution_count": 0,
      "outputs": []
    },
    {
      "metadata": {
        "id": "7OpHN-WMtr3e",
        "colab_type": "code",
        "colab": {}
      },
      "cell_type": "code",
      "source": [
        "! git clone https://github.com/tensorflow/models.git\n",
        "\n",
        "! pip install Cython\n",
        "! pip install pycocotools\n",
        "! apt-get install protobuf-compiler\n",
        "! cd models/research/ && protoc object_detection/protos/*.proto --python_out=."
      ],
      "execution_count": 0,
      "outputs": []
    },
    {
      "metadata": {
        "id": "ljvVhWFmIGfb",
        "colab_type": "code",
        "colab": {}
      },
      "cell_type": "code",
      "source": [
        "#%reset -f\n",
        "#! rm -r model\n",
        "import sys\n",
        "sys.path.append(\"models/research/\")\n",
        "sys.path.append(\"models/research/slim/\")\n",
        "import os\n",
        "tpu_name = os.environ.get('COLAB_TPU_ADDR', None)\n",
        "if tpu_name is not None:\n",
        "  %run models/research/object_detection/model_tpu_main.py --tpu_name=grpc://$tpu_name --pipeline_config_path=ssd_mobilenet_v2_coco.config --model_dir=model/ --alsologtostderr\n",
        "else:\n",
        "  %run models/research/object_detection/model_main.py --pipeline_config_path=ssd_mobilenet_v2_coco.config --model_dir=model/ --alsologtostderr"
      ],
      "execution_count": 0,
      "outputs": []
    },
    {
      "metadata": {
        "id": "bM9FzIt8ogc8",
        "colab_type": "code",
        "colab": {}
      },
      "cell_type": "code",
      "source": [
        "#! XZ_OPT=-9 tar -cJvf model.tar.xz model\n",
        "#from google.colab import files\n",
        "#files.download(\"model.tar.xz\")"
      ],
      "execution_count": 0,
      "outputs": []
    },
    {
      "metadata": {
        "id": "2Uv-Cobz-7rr",
        "colab_type": "code",
        "colab": {}
      },
      "cell_type": "code",
      "source": [
        "%reset -f\n",
        "#! rm -r export\n",
        "import sys\n",
        "sys.path.append(\"models/research/\")\n",
        "sys.path.append(\"models/research/slim/\")\n",
        "%run models/research/object_detection/export_inference_graph.py --input_type=image_tensor --pipeline_config_path=ssd_mobilenet_v2_coco.config --trained_checkpoint_prefix=model/model.ckpt-5814 --output_directory=export/"
      ],
      "execution_count": 0,
      "outputs": []
    },
    {
      "metadata": {
        "id": "__WmBDP27mw7",
        "colab_type": "code",
        "colab": {}
      },
      "cell_type": "code",
      "source": [
        "! wget https://raw.githubusercontent.com/opencv/opencv/master/samples/dnn/tf_text_graph_ssd.py\n",
        "! wget https://raw.githubusercontent.com/opencv/opencv/master/samples/dnn/tf_text_graph_common.py\n",
        "%run tf_text_graph_ssd.py --input export/frozen_inference_graph.pb --output config.pbtxt --config ssd_mobilenet_v2_coco.config\n",
        "! zip -9 -j frozen export/frozen_inference_graph.pb config.pbtxt\n",
        "from google.colab import files\n",
        "files.download(\"frozen.zip\")"
      ],
      "execution_count": 0,
      "outputs": []
    },
    {
      "metadata": {
        "id": "yU2oTJw3LryB",
        "colab_type": "code",
        "colab": {}
      },
      "cell_type": "code",
      "source": [
        "#! "
      ],
      "execution_count": 0,
      "outputs": []
    }
  ]
}